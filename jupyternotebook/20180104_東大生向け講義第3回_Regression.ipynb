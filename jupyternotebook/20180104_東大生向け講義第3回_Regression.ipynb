{
 "cells": [
  {
   "cell_type": "code",
   "execution_count": 3,
   "metadata": {
    "collapsed": true
   },
   "outputs": [],
   "source": [
    "%matplotlib inline\n",
    "\n",
    "import numpy as np\n",
    "import pandas as pd\n",
    "import matplotlib.pyplot as plt\n",
    "# 今回は回帰分析を行うにあたって、sklearnのLineaRegressionを使用する\n",
    "from sklearn.linear_model import LinearRegression"
   ]
  },
  {
   "cell_type": "code",
   "execution_count": 20,
   "metadata": {},
   "outputs": [
    {
     "data": {
      "text/plain": [
       "<matplotlib.collections.PathCollection at 0x112c25be0>"
      ]
     },
     "execution_count": 20,
     "metadata": {},
     "output_type": "execute_result"
    },
    {
     "name": "stderr",
     "output_type": "stream",
     "text": [
      "/Users/ken/.pyenv/versions/3.6.0/lib/python3.6/site-packages/matplotlib/figure.py:1742: UserWarning: This figure includes Axes that are not compatible with tight_layout, so its results might be incorrect.\n",
      "  warnings.warn(\"This figure includes Axes that are not \"\n"
     ]
    },
    {
     "data": {
      "image/png": "[encoded data removed]",
      "text/plain": [
       "<matplotlib.figure.Figure at 0x112ad4240>"
      ]
     },
     "metadata": {},
     "output_type": "display_data"
    }
   ],
   "source": [
    "# sample数30個とする\n",
    "n_sample = 30\n",
    "# 乱数を30個作って、順番をsortして10倍している\n",
    "x = np.sort(np.random.rand(n_sample)) * 10\n",
    "# 1次関数でyを定義し、plotする\n",
    "y = x**2 + 10\n",
    "plt.scatter(x, y)"
   ]
  },
  {
   "cell_type": "code",
   "execution_count": 21,
   "metadata": {},
   "outputs": [
    {
     "data": {
      "text/plain": [
       "LinearRegression(copy_X=True, fit_intercept=True, n_jobs=1, normalize=False)"
      ]
     },
     "execution_count": 21,
     "metadata": {},
     "output_type": "execute_result"
    }
   ],
   "source": [
    "# LinearRegressionモデルを初期化して、先程つくったinput dataでモデルにfitさせる（学習させる）\n",
    "lr = LinearRegression()\n",
    "lr.fit(np.vstack(x), y)"
   ]
  },
  {
   "cell_type": "code",
   "execution_count": 22,
   "metadata": {},
   "outputs": [
    {
     "data": {
      "text/plain": [
       "array([[ 0.28305335],\n",
       "       [ 0.28883174],\n",
       "       [ 0.43558785],\n",
       "       [ 2.03927609],\n",
       "       [ 2.18484613],\n",
       "       [ 2.47531611],\n",
       "       [ 2.53643974],\n",
       "       [ 3.44566041],\n",
       "       [ 3.47174296],\n",
       "       [ 3.54357485],\n",
       "       [ 4.00669245],\n",
       "       [ 4.20033304],\n",
       "       [ 4.40138476],\n",
       "       [ 4.73646903],\n",
       "       [ 5.1630813 ],\n",
       "       [ 5.72777864],\n",
       "       [ 5.84201545],\n",
       "       [ 5.90541303],\n",
       "       [ 6.13867943],\n",
       "       [ 6.53115845],\n",
       "       [ 6.83794217],\n",
       "       [ 7.57501215],\n",
       "       [ 7.76553049],\n",
       "       [ 7.76777376],\n",
       "       [ 8.10118541],\n",
       "       [ 8.16686827],\n",
       "       [ 8.28216284],\n",
       "       [ 8.72702809],\n",
       "       [ 9.04101852],\n",
       "       [ 9.40266283]])"
      ]
     },
     "execution_count": 22,
     "metadata": {},
     "output_type": "execute_result"
    }
   ],
   "source": [
    "np.vstack(x)"
   ]
  },
  {
   "cell_type": "code",
   "execution_count": 23,
   "metadata": {},
   "outputs": [
    {
     "data": {
      "text/plain": [
       "array([[ 0.28305335],\n",
       "       [ 0.28883174],\n",
       "       [ 0.43558785],\n",
       "       [ 2.03927609],\n",
       "       [ 2.18484613],\n",
       "       [ 2.47531611],\n",
       "       [ 2.53643974],\n",
       "       [ 3.44566041],\n",
       "       [ 3.47174296],\n",
       "       [ 3.54357485],\n",
       "       [ 4.00669245],\n",
       "       [ 4.20033304],\n",
       "       [ 4.40138476],\n",
       "       [ 4.73646903],\n",
       "       [ 5.1630813 ],\n",
       "       [ 5.72777864],\n",
       "       [ 5.84201545],\n",
       "       [ 5.90541303],\n",
       "       [ 6.13867943],\n",
       "       [ 6.53115845],\n",
       "       [ 6.83794217],\n",
       "       [ 7.57501215],\n",
       "       [ 7.76553049],\n",
       "       [ 7.76777376],\n",
       "       [ 8.10118541],\n",
       "       [ 8.16686827],\n",
       "       [ 8.28216284],\n",
       "       [ 8.72702809],\n",
       "       [ 9.04101852],\n",
       "       [ 9.40266283]])"
      ]
     },
     "execution_count": 23,
     "metadata": {},
     "output_type": "execute_result"
    }
   ],
   "source": [
    "x[:, np.newaxis]"
   ]
  },
  {
   "cell_type": "code",
   "execution_count": 1,
   "metadata": {},
   "outputs": [
    {
     "ename": "NameError",
     "evalue": "name 'lr' is not defined",
     "output_type": "error",
     "traceback": [
      "\u001b[0;31m---------------------------------------------------------------------------\u001b[0m",
      "\u001b[0;31mNameError\u001b[0m                                 Traceback (most recent call last)",
      "\u001b[0;32m<ipython-input-1-9b29fee7e9d0>\u001b[0m in \u001b[0;36m<module>\u001b[0;34m()\u001b[0m\n\u001b[0;32m----> 1\u001b[0;31m \u001b[0mlr\u001b[0m\u001b[0;34m.\u001b[0m\u001b[0mfit\u001b[0m\u001b[0;34m(\u001b[0m\u001b[0mnp\u001b[0m\u001b[0;34m.\u001b[0m\u001b[0mvstack\u001b[0m\u001b[0;34m(\u001b[0m\u001b[0mx\u001b[0m\u001b[0;34m)\u001b[0m\u001b[0;34m,\u001b[0m \u001b[0my\u001b[0m\u001b[0;34m)\u001b[0m\u001b[0;34m\u001b[0m\u001b[0m\n\u001b[0m\u001b[1;32m      2\u001b[0m \u001b[0;31m# fitでLInearRegressionというモデルに対して、input dataでfitさせて時点で学習はできているLinear Regressionの場合は、predictで予測値を取得できる。\u001b[0m\u001b[0;34m\u001b[0m\u001b[0;34m\u001b[0m\u001b[0m\n\u001b[1;32m      3\u001b[0m \u001b[0mpredicted_y\u001b[0m \u001b[0;34m=\u001b[0m \u001b[0mlr\u001b[0m\u001b[0;34m.\u001b[0m\u001b[0mpredict\u001b[0m\u001b[0;34m(\u001b[0m\u001b[0mnp\u001b[0m\u001b[0;34m.\u001b[0m\u001b[0mvstack\u001b[0m\u001b[0;34m(\u001b[0m\u001b[0mx\u001b[0m\u001b[0;34m)\u001b[0m\u001b[0;34m)\u001b[0m\u001b[0;34m\u001b[0m\u001b[0m\n",
      "\u001b[0;31mNameError\u001b[0m: name 'lr' is not defined"
     ]
    }
   ],
   "source": [
    "lr.fit(np.vstack(x), y)\n",
    "# fitでLInearRegressionというモデルに対して、input dataでfitさせて時点で学習はできている\n",
    "# Linear Regressionの場合は、predictで予測値を取得できる\n",
    "predicted_y = lr.predict(np.vstack(x))"
   ]
  },
  {
   "cell_type": "code",
   "execution_count": 25,
   "metadata": {},
   "outputs": [
    {
     "data": {
      "text/plain": [
       "<matplotlib.collections.PathCollection at 0x1123b5588>"
      ]
     },
     "execution_count": 25,
     "metadata": {},
     "output_type": "execute_result"
    },
    {
     "name": "stderr",
     "output_type": "stream",
     "text": [
      "/Users/ken/.pyenv/versions/3.6.0/lib/python3.6/site-packages/matplotlib/figure.py:1742: UserWarning: This figure includes Axes that are not compatible with tight_layout, so its results might be incorrect.\n",
      "  warnings.warn(\"This figure includes Axes that are not \"\n"
     ]
    },
    {
     "data": {
      "image/png": "[encoded data removed]",
      "text/plain": [
       "<matplotlib.figure.Figure at 0x1123b55c0>"
      ]
     },
     "metadata": {},
     "output_type": "display_data"
    }
   ],
   "source": [
    "plt.plot(x, predicted_y)\n",
    "plt.scatter(x, y)"
   ]
  },
  {
   "cell_type": "code",
   "execution_count": 26,
   "metadata": {
    "scrolled": true
   },
   "outputs": [
    {
     "data": {
      "text/html": [
       "<div>\n",
       "<style>\n",
       "    .dataframe thead tr:only-child th {\n",
       "        text-align: right;\n",
       "    }\n",
       "\n",
       "    .dataframe thead th {\n",
       "        text-align: left;\n",
       "    }\n",
       "\n",
       "    .dataframe tbody tr th {\n",
       "        vertical-align: top;\n",
       "    }\n",
       "</style>\n",
       "<table border=\"1\" class=\"dataframe\">\n",
       "  <thead>\n",
       "    <tr style=\"text-align: right;\">\n",
       "      <th></th>\n",
       "      <th>x</th>\n",
       "      <th>y</th>\n",
       "    </tr>\n",
       "  </thead>\n",
       "  <tbody>\n",
       "    <tr>\n",
       "      <th>0</th>\n",
       "      <td>0.283053</td>\n",
       "      <td>10.080119</td>\n",
       "    </tr>\n",
       "    <tr>\n",
       "      <th>1</th>\n",
       "      <td>0.288832</td>\n",
       "      <td>10.083424</td>\n",
       "    </tr>\n",
       "    <tr>\n",
       "      <th>2</th>\n",
       "      <td>0.435588</td>\n",
       "      <td>10.189737</td>\n",
       "    </tr>\n",
       "    <tr>\n",
       "      <th>3</th>\n",
       "      <td>2.039276</td>\n",
       "      <td>14.158647</td>\n",
       "    </tr>\n",
       "    <tr>\n",
       "      <th>4</th>\n",
       "      <td>2.184846</td>\n",
       "      <td>14.773553</td>\n",
       "    </tr>\n",
       "    <tr>\n",
       "      <th>5</th>\n",
       "      <td>2.475316</td>\n",
       "      <td>16.127190</td>\n",
       "    </tr>\n",
       "    <tr>\n",
       "      <th>6</th>\n",
       "      <td>2.536440</td>\n",
       "      <td>16.433527</td>\n",
       "    </tr>\n",
       "    <tr>\n",
       "      <th>7</th>\n",
       "      <td>3.445660</td>\n",
       "      <td>21.872576</td>\n",
       "    </tr>\n",
       "    <tr>\n",
       "      <th>8</th>\n",
       "      <td>3.471743</td>\n",
       "      <td>22.052999</td>\n",
       "    </tr>\n",
       "    <tr>\n",
       "      <th>9</th>\n",
       "      <td>3.543575</td>\n",
       "      <td>22.556923</td>\n",
       "    </tr>\n",
       "    <tr>\n",
       "      <th>10</th>\n",
       "      <td>4.006692</td>\n",
       "      <td>26.053584</td>\n",
       "    </tr>\n",
       "    <tr>\n",
       "      <th>11</th>\n",
       "      <td>4.200333</td>\n",
       "      <td>27.642798</td>\n",
       "    </tr>\n",
       "    <tr>\n",
       "      <th>12</th>\n",
       "      <td>4.401385</td>\n",
       "      <td>29.372188</td>\n",
       "    </tr>\n",
       "    <tr>\n",
       "      <th>13</th>\n",
       "      <td>4.736469</td>\n",
       "      <td>32.434139</td>\n",
       "    </tr>\n",
       "    <tr>\n",
       "      <th>14</th>\n",
       "      <td>5.163081</td>\n",
       "      <td>36.657408</td>\n",
       "    </tr>\n",
       "    <tr>\n",
       "      <th>15</th>\n",
       "      <td>5.727779</td>\n",
       "      <td>42.807448</td>\n",
       "    </tr>\n",
       "    <tr>\n",
       "      <th>16</th>\n",
       "      <td>5.842015</td>\n",
       "      <td>44.129145</td>\n",
       "    </tr>\n",
       "    <tr>\n",
       "      <th>17</th>\n",
       "      <td>5.905413</td>\n",
       "      <td>44.873903</td>\n",
       "    </tr>\n",
       "    <tr>\n",
       "      <th>18</th>\n",
       "      <td>6.138679</td>\n",
       "      <td>47.683385</td>\n",
       "    </tr>\n",
       "    <tr>\n",
       "      <th>19</th>\n",
       "      <td>6.531158</td>\n",
       "      <td>52.656031</td>\n",
       "    </tr>\n",
       "    <tr>\n",
       "      <th>20</th>\n",
       "      <td>6.837942</td>\n",
       "      <td>56.757453</td>\n",
       "    </tr>\n",
       "    <tr>\n",
       "      <th>21</th>\n",
       "      <td>7.575012</td>\n",
       "      <td>67.380809</td>\n",
       "    </tr>\n",
       "    <tr>\n",
       "      <th>22</th>\n",
       "      <td>7.765530</td>\n",
       "      <td>70.303464</td>\n",
       "    </tr>\n",
       "    <tr>\n",
       "      <th>23</th>\n",
       "      <td>7.767774</td>\n",
       "      <td>70.338309</td>\n",
       "    </tr>\n",
       "    <tr>\n",
       "      <th>24</th>\n",
       "      <td>8.101185</td>\n",
       "      <td>75.629205</td>\n",
       "    </tr>\n",
       "    <tr>\n",
       "      <th>25</th>\n",
       "      <td>8.166868</td>\n",
       "      <td>76.697737</td>\n",
       "    </tr>\n",
       "    <tr>\n",
       "      <th>26</th>\n",
       "      <td>8.282163</td>\n",
       "      <td>78.594221</td>\n",
       "    </tr>\n",
       "    <tr>\n",
       "      <th>27</th>\n",
       "      <td>8.727028</td>\n",
       "      <td>86.161019</td>\n",
       "    </tr>\n",
       "    <tr>\n",
       "      <th>28</th>\n",
       "      <td>9.041019</td>\n",
       "      <td>91.740016</td>\n",
       "    </tr>\n",
       "    <tr>\n",
       "      <th>29</th>\n",
       "      <td>9.402663</td>\n",
       "      <td>98.410068</td>\n",
       "    </tr>\n",
       "  </tbody>\n",
       "</table>\n",
       "</div>"
      ],
      "text/plain": [
       "           x          y\n",
       "0   0.283053  10.080119\n",
       "1   0.288832  10.083424\n",
       "2   0.435588  10.189737\n",
       "3   2.039276  14.158647\n",
       "4   2.184846  14.773553\n",
       "5   2.475316  16.127190\n",
       "6   2.536440  16.433527\n",
       "7   3.445660  21.872576\n",
       "8   3.471743  22.052999\n",
       "9   3.543575  22.556923\n",
       "10  4.006692  26.053584\n",
       "11  4.200333  27.642798\n",
       "12  4.401385  29.372188\n",
       "13  4.736469  32.434139\n",
       "14  5.163081  36.657408\n",
       "15  5.727779  42.807448\n",
       "16  5.842015  44.129145\n",
       "17  5.905413  44.873903\n",
       "18  6.138679  47.683385\n",
       "19  6.531158  52.656031\n",
       "20  6.837942  56.757453\n",
       "21  7.575012  67.380809\n",
       "22  7.765530  70.303464\n",
       "23  7.767774  70.338309\n",
       "24  8.101185  75.629205\n",
       "25  8.166868  76.697737\n",
       "26  8.282163  78.594221\n",
       "27  8.727028  86.161019\n",
       "28  9.041019  91.740016\n",
       "29  9.402663  98.410068"
      ]
     },
     "execution_count": 26,
     "metadata": {},
     "output_type": "execute_result"
    }
   ],
   "source": [
    "pd.DataFrame(np.c_[x, y], columns=['x', 'y'])"
   ]
  },
  {
   "cell_type": "code",
   "execution_count": 27,
   "metadata": {},
   "outputs": [
    {
     "data": {
      "text/plain": [
       "<seaborn.axisgrid.FacetGrid at 0x112d97dd8>"
      ]
     },
     "execution_count": 27,
     "metadata": {},
     "output_type": "execute_result"
    },
    {
     "name": "stderr",
     "output_type": "stream",
     "text": [
      "/Users/ken/.pyenv/versions/3.6.0/lib/python3.6/site-packages/matplotlib/figure.py:1742: UserWarning: This figure includes Axes that are not compatible with tight_layout, so its results might be incorrect.\n",
      "  warnings.warn(\"This figure includes Axes that are not \"\n"
     ]
    },
    {
     "data": {
      "image/png": "[encoded data removed]",
      "text/plain": [
       "<matplotlib.figure.Figure at 0x112d97ef0>"
      ]
     },
     "metadata": {},
     "output_type": "display_data"
    }
   ],
   "source": [
    "# 今まではsklearnのLinear Regressionを使用してきたが、実はseabornでは自動的に線形回帰分析を行ってくれる\n",
    "import seaborn as sns\n",
    "sns.lmplot('x', 'y', pd.DataFrame(np.c_[x, y], columns=['x', 'y']))"
   ]
  },
  {
   "cell_type": "code",
   "execution_count": 53,
   "metadata": {},
   "outputs": [
    {
     "data": {
      "text/plain": [
       "<seaborn.axisgrid.FacetGrid at 0x112f84a90>"
      ]
     },
     "execution_count": 53,
     "metadata": {},
     "output_type": "execute_result"
    },
    {
     "name": "stderr",
     "output_type": "stream",
     "text": [
      "/Users/ken/.pyenv/versions/3.6.0/lib/python3.6/site-packages/matplotlib/figure.py:1742: UserWarning: This figure includes Axes that are not compatible with tight_layout, so its results might be incorrect.\n",
      "  warnings.warn(\"This figure includes Axes that are not \"\n"
     ]
    },
    {
     "data": {
      "image/png": "[encoded data removed]",
      "text/plain": [
       "<matplotlib.figure.Figure at 0x112f84898>"
      ]
     },
     "metadata": {},
     "output_type": "display_data"
    }
   ],
   "source": [
    "# seabornでは簡単に多項式での回帰分析もできる\n",
    "sns.lmplot('x', 'y', pd.DataFrame(np.c_[x, y], columns=['x', 'y']), order=2)"
   ]
  },
  {
   "cell_type": "code",
   "execution_count": 30,
   "metadata": {
    "collapsed": true
   },
   "outputs": [],
   "source": [
    "# 多項式での線形回帰分析をsklearnを使って行うためには、PolynomialFeaturesを使って前処理を行う\n",
    "from sklearn.preprocessing import PolynomialFeatures"
   ]
  },
  {
   "cell_type": "code",
   "execution_count": 56,
   "metadata": {},
   "outputs": [
    {
     "data": {
      "text/plain": [
       "array([[  1.00000000e+00,   2.83053353e-01,   8.01192005e-02],\n",
       "       [  1.00000000e+00,   2.88831743e-01,   8.34237755e-02],\n",
       "       [  1.00000000e+00,   4.35587852e-01,   1.89736777e-01],\n",
       "       [  1.00000000e+00,   2.03927609e+00,   4.15864698e+00],\n",
       "       [  1.00000000e+00,   2.18484613e+00,   4.77355260e+00],\n",
       "       [  1.00000000e+00,   2.47531611e+00,   6.12718986e+00],\n",
       "       [  1.00000000e+00,   2.53643974e+00,   6.43352656e+00],\n",
       "       [  1.00000000e+00,   3.44566041e+00,   1.18725757e+01],\n",
       "       [  1.00000000e+00,   3.47174296e+00,   1.20529992e+01],\n",
       "       [  1.00000000e+00,   3.54357485e+00,   1.25569227e+01],\n",
       "       [  1.00000000e+00,   4.00669245e+00,   1.60535844e+01],\n",
       "       [  1.00000000e+00,   4.20033304e+00,   1.76427977e+01],\n",
       "       [  1.00000000e+00,   4.40138476e+00,   1.93721878e+01],\n",
       "       [  1.00000000e+00,   4.73646903e+00,   2.24341389e+01],\n",
       "       [  1.00000000e+00,   5.16308130e+00,   2.66574085e+01],\n",
       "       [  1.00000000e+00,   5.72777864e+00,   3.28074482e+01],\n",
       "       [  1.00000000e+00,   5.84201545e+00,   3.41291446e+01],\n",
       "       [  1.00000000e+00,   5.90541303e+00,   3.48739030e+01],\n",
       "       [  1.00000000e+00,   6.13867943e+00,   3.76833852e+01],\n",
       "       [  1.00000000e+00,   6.53115845e+00,   4.26560307e+01],\n",
       "       [  1.00000000e+00,   6.83794217e+00,   4.67574531e+01],\n",
       "       [  1.00000000e+00,   7.57501215e+00,   5.73808091e+01],\n",
       "       [  1.00000000e+00,   7.76553049e+00,   6.03034638e+01],\n",
       "       [  1.00000000e+00,   7.76777376e+00,   6.03383092e+01],\n",
       "       [  1.00000000e+00,   8.10118541e+00,   6.56292050e+01],\n",
       "       [  1.00000000e+00,   8.16686827e+00,   6.66977374e+01],\n",
       "       [  1.00000000e+00,   8.28216284e+00,   6.85942214e+01],\n",
       "       [  1.00000000e+00,   8.72702809e+00,   7.61610193e+01],\n",
       "       [  1.00000000e+00,   9.04101852e+00,   8.17400160e+01],\n",
       "       [  1.00000000e+00,   9.40266283e+00,   8.84100683e+01]])"
      ]
     },
     "execution_count": 56,
     "metadata": {},
     "output_type": "execute_result"
    }
   ],
   "source": [
    "pf = PolynomialFeatures(degree=2)\n",
    "pf.fit(np.vstack(x))\n",
    "transformed_x = pf.transform(np.vstack(x))\n",
    "transformed_x"
   ]
  },
  {
   "cell_type": "code",
   "execution_count": 57,
   "metadata": {},
   "outputs": [
    {
     "data": {
      "text/plain": [
       "(array([ 0.28305335,  0.28883174,  0.43558785,  2.03927609,  2.18484613,\n",
       "         2.47531611,  2.53643974,  3.44566041,  3.47174296,  3.54357485,\n",
       "         4.00669245,  4.20033304,  4.40138476,  4.73646903,  5.1630813 ,\n",
       "         5.72777864,  5.84201545,  5.90541303,  6.13867943,  6.53115845,\n",
       "         6.83794217,  7.57501215,  7.76553049,  7.76777376,  8.10118541,\n",
       "         8.16686827,  8.28216284,  8.72702809,  9.04101852,  9.40266283]),\n",
       " array([[  1.00000000e+00,   2.83053353e-01,   8.01192005e-02],\n",
       "        [  1.00000000e+00,   2.88831743e-01,   8.34237755e-02],\n",
       "        [  1.00000000e+00,   4.35587852e-01,   1.89736777e-01],\n",
       "        [  1.00000000e+00,   2.03927609e+00,   4.15864698e+00],\n",
       "        [  1.00000000e+00,   2.18484613e+00,   4.77355260e+00],\n",
       "        [  1.00000000e+00,   2.47531611e+00,   6.12718986e+00],\n",
       "        [  1.00000000e+00,   2.53643974e+00,   6.43352656e+00],\n",
       "        [  1.00000000e+00,   3.44566041e+00,   1.18725757e+01],\n",
       "        [  1.00000000e+00,   3.47174296e+00,   1.20529992e+01],\n",
       "        [  1.00000000e+00,   3.54357485e+00,   1.25569227e+01],\n",
       "        [  1.00000000e+00,   4.00669245e+00,   1.60535844e+01],\n",
       "        [  1.00000000e+00,   4.20033304e+00,   1.76427977e+01],\n",
       "        [  1.00000000e+00,   4.40138476e+00,   1.93721878e+01],\n",
       "        [  1.00000000e+00,   4.73646903e+00,   2.24341389e+01],\n",
       "        [  1.00000000e+00,   5.16308130e+00,   2.66574085e+01],\n",
       "        [  1.00000000e+00,   5.72777864e+00,   3.28074482e+01],\n",
       "        [  1.00000000e+00,   5.84201545e+00,   3.41291446e+01],\n",
       "        [  1.00000000e+00,   5.90541303e+00,   3.48739030e+01],\n",
       "        [  1.00000000e+00,   6.13867943e+00,   3.76833852e+01],\n",
       "        [  1.00000000e+00,   6.53115845e+00,   4.26560307e+01],\n",
       "        [  1.00000000e+00,   6.83794217e+00,   4.67574531e+01],\n",
       "        [  1.00000000e+00,   7.57501215e+00,   5.73808091e+01],\n",
       "        [  1.00000000e+00,   7.76553049e+00,   6.03034638e+01],\n",
       "        [  1.00000000e+00,   7.76777376e+00,   6.03383092e+01],\n",
       "        [  1.00000000e+00,   8.10118541e+00,   6.56292050e+01],\n",
       "        [  1.00000000e+00,   8.16686827e+00,   6.66977374e+01],\n",
       "        [  1.00000000e+00,   8.28216284e+00,   6.85942214e+01],\n",
       "        [  1.00000000e+00,   8.72702809e+00,   7.61610193e+01],\n",
       "        [  1.00000000e+00,   9.04101852e+00,   8.17400160e+01],\n",
       "        [  1.00000000e+00,   9.40266283e+00,   8.84100683e+01]]))"
      ]
     },
     "execution_count": 57,
     "metadata": {},
     "output_type": "execute_result"
    }
   ],
   "source": [
    "x, transformed_x"
   ]
  },
  {
   "cell_type": "code",
   "execution_count": 61,
   "metadata": {},
   "outputs": [
    {
     "data": {
      "text/plain": [
       "LinearRegression(copy_X=True, fit_intercept=True, n_jobs=1, normalize=False)"
      ]
     },
     "execution_count": 61,
     "metadata": {},
     "output_type": "execute_result"
    }
   ],
   "source": [
    "lr = LinearRegression()\n",
    "lr.fit(transformed_x, y)"
   ]
  },
  {
   "cell_type": "code",
   "execution_count": 64,
   "metadata": {
    "scrolled": true
   },
   "outputs": [
    {
     "data": {
      "text/plain": [
       "<matplotlib.collections.PathCollection at 0x11308bb70>"
      ]
     },
     "execution_count": 64,
     "metadata": {},
     "output_type": "execute_result"
    },
    {
     "name": "stderr",
     "output_type": "stream",
     "text": [
      "/Users/ken/.pyenv/versions/3.6.0/lib/python3.6/site-packages/matplotlib/figure.py:1742: UserWarning: This figure includes Axes that are not compatible with tight_layout, so its results might be incorrect.\n",
      "  warnings.warn(\"This figure includes Axes that are not \"\n"
     ]
    },
    {
     "data": {
      "image/png": "[encoded data removed]",
      "text/plain": [
       "<matplotlib.figure.Figure at 0x113137390>"
      ]
     },
     "metadata": {},
     "output_type": "display_data"
    }
   ],
   "source": [
    "plt.plot(x, lr.predict(transformed_x))\n",
    "plt.scatter(x, y)"
   ]
  },
  {
   "cell_type": "code",
   "execution_count": 4,
   "metadata": {},
   "outputs": [
    {
     "ename": "NameError",
     "evalue": "name 'x' is not defined",
     "output_type": "error",
     "traceback": [
      "\u001b[0;31m---------------------------------------------------------------------------\u001b[0m",
      "\u001b[0;31mNameError\u001b[0m                                 Traceback (most recent call last)",
      "\u001b[0;32m<ipython-input-4-6b895ce36792>\u001b[0m in \u001b[0;36m<module>\u001b[0;34m()\u001b[0m\n\u001b[1;32m      3\u001b[0m \u001b[0;32mfrom\u001b[0m \u001b[0msklearn\u001b[0m\u001b[0;34m.\u001b[0m\u001b[0mlinear_model\u001b[0m \u001b[0;32mimport\u001b[0m \u001b[0mRidge\u001b[0m\u001b[0;34m\u001b[0m\u001b[0m\n\u001b[1;32m      4\u001b[0m \u001b[0mr\u001b[0m \u001b[0;34m=\u001b[0m \u001b[0mRidge\u001b[0m\u001b[0;34m(\u001b[0m\u001b[0;34m)\u001b[0m\u001b[0;34m\u001b[0m\u001b[0m\n\u001b[0;32m----> 5\u001b[0;31m \u001b[0mr\u001b[0m\u001b[0;34m.\u001b[0m\u001b[0mfit\u001b[0m\u001b[0;34m(\u001b[0m\u001b[0mnp\u001b[0m\u001b[0;34m.\u001b[0m\u001b[0mvstack\u001b[0m\u001b[0;34m(\u001b[0m\u001b[0mx\u001b[0m\u001b[0;34m)\u001b[0m\u001b[0;34m,\u001b[0m \u001b[0my\u001b[0m\u001b[0;34m)\u001b[0m\u001b[0;34m\u001b[0m\u001b[0m\n\u001b[0m\u001b[1;32m      6\u001b[0m \u001b[0mplt\u001b[0m\u001b[0;34m.\u001b[0m\u001b[0mplot\u001b[0m\u001b[0;34m(\u001b[0m\u001b[0mx\u001b[0m\u001b[0;34m,\u001b[0m \u001b[0mr\u001b[0m\u001b[0;34m.\u001b[0m\u001b[0mpredict\u001b[0m\u001b[0;34m(\u001b[0m\u001b[0mnp\u001b[0m\u001b[0;34m.\u001b[0m\u001b[0mvstack\u001b[0m\u001b[0;34m(\u001b[0m\u001b[0mx\u001b[0m\u001b[0;34m)\u001b[0m\u001b[0;34m)\u001b[0m\u001b[0;34m)\u001b[0m\u001b[0;34m\u001b[0m\u001b[0m\n\u001b[1;32m      7\u001b[0m \u001b[0mplt\u001b[0m\u001b[0;34m.\u001b[0m\u001b[0mscatter\u001b[0m\u001b[0;34m(\u001b[0m\u001b[0mx\u001b[0m\u001b[0;34m,\u001b[0m \u001b[0my\u001b[0m\u001b[0;34m)\u001b[0m\u001b[0;34m\u001b[0m\u001b[0m\n",
      "\u001b[0;31mNameError\u001b[0m: name 'x' is not defined"
     ]
    }
   ],
   "source": [
    "# overfittingを防ぐために、L1正則化やL2正則化といった手法が使われる\n",
    "# sklearnではL2正則化を用いたリッジ回帰が用意されている\n",
    "from sklearn.linear_model import Ridge\n",
    "r = Ridge()\n",
    "r.fit(np.vstack(x), y)\n",
    "plt.plot(x, r.predict(np.vstack(x)))\n",
    "plt.scatter(x, y)"
   ]
  },
  {
   "cell_type": "code",
   "execution_count": null,
   "metadata": {
    "collapsed": true
   },
   "outputs": [],
   "source": []
  }
 ],
 "metadata": {
  "kernelspec": {
   "display_name": "Python 3",
   "language": "python",
   "name": "python3"
  },
  "language_info": {
   "codemirror_mode": {
    "name": "ipython",
    "version": 3
   },
   "file_extension": ".py",
   "mimetype": "text/x-python",
   "name": "python",
   "nbconvert_exporter": "python",
   "pygments_lexer": "ipython3",
   "version": "3.6.1"
  }
 },
 "nbformat": 4,
 "nbformat_minor": 2
}
